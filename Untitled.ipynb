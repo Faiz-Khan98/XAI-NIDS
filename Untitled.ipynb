{
 "cells": [
  {
   "cell_type": "code",
   "execution_count": 1,
   "id": "eed673b3",
   "metadata": {},
   "outputs": [],
   "source": [
    "# -*- coding: utf-8 -*-\n",
    "\"\"\"\n",
    "Spyder Editor\n",
    "\n",
    "This is a temporary script file.\n",
    "\"\"\"\n",
    "import os\n",
    "import pandas as pd\n",
    "import numpy as np\n",
    "from sklearn.preprocessing import LabelEncoder, MinMaxScaler, OrdinalEncoder \n",
    "from sklearn.model_selection import train_test_split\n",
    "from sklearn.naive_bayes import GaussianNB, MultinomialNB, ComplementNB, CategoricalNB\n",
    "from sklearn.metrics import confusion_matrix, classification_report\n",
    "from sklearn.feature_selection import VarianceThreshold\n",
    "import matplotlib.pyplot as plt\n",
    "import xgboost as xgb\n",
    "import lightgbm as lgbm\n",
    "import shap\n",
    "\n",
    "import warnings\n",
    "warnings.filterwarnings('ignore')\n",
    "\n"
   ]
  },
  {
   "cell_type": "code",
   "execution_count": 2,
   "id": "9df0ef70",
   "metadata": {},
   "outputs": [],
   "source": [
    "\"\"\"\n",
    "master_df = pd.DataFrame()\n",
    "\n",
    "for file in os.listdir(os.getcwd()):\n",
    "    if file.endswith('.csv'):\n",
    "        master_df = master_df.append(pd.read_csv(file))\n",
    "        \n",
    "master_df.to_csv('Master_File.CSV',index=False)\n",
    "\"\"\"\n",
    "data = pd.read_csv('Master_File.CSV')\n",
    "data = data.dropna(axis=1)\n",
    "data.drop_duplicates(data.columns, keep='last')\n",
    "\n",
    "data['subcategory'] = data['subcategory'] + data['category']\n",
    "\n",
    "cut_features = data.drop(['pkSeqID','seq','stime','ltime','flgs','proto','state','saddr','sport','daddr','dport'],axis=1)\n",
    "all_features = data.drop(['pkSeqID','seq','stime','ltime','flgs','proto','state'],axis=1)\n",
    "\n",
    "cut_features =cut_features.drop(['attack','category','subcategory'],axis=1)\n",
    "all_features =all_features.drop(['attack','category','subcategory'],axis=1)\n",
    "\n",
    "target_features = data[['attack','category','subcategory']]\n",
    "\"\"\"\n",
    "le = LabelEncoder()\n",
    "#target_features['category'] = le.fit_transform(target_features['category'])\n",
    "#target_features['subcategory'] = le.fit_transform(target_features['subcategory'])\n",
    "\n",
    "oe = OrdinalEncoder()\n",
    "all_features['saddr'] = oe.fit_transform(all_features[['saddr']])\n",
    "all_features['daddr'] = oe.fit_transform(all_features[['daddr']])\n",
    "\n",
    "all_features['dport']= all_features['dport'].map(str)\n",
    "all_features['sport']= all_features['sport'].map(str)\n",
    "\n",
    "all_features['sport'] = oe.fit_transform(all_features[['sport']])\n",
    "all_features['dport'] = oe.fit_transform(all_features[['dport']])\n",
    "\n",
    "#feature_selector = VarianceThreshold()\n",
    "#VarianceFiltered_X = feature_selector.fit_transform(all_features)\n",
    "\"\"\"\n",
    "time_features = cut_features[['dur','N_IN_Conn_P_DstIP']]\n",
    "######\n",
    "target_features = target_features.drop(['attack','subcategory'],axis=1)\n",
    "######\n",
    "\n",
    "x_train, x_test, y_train, y_test = train_test_split(time_features,target_features,test_size=0.2, random_state=2)"
   ]
  },
  {
   "cell_type": "markdown",
   "id": "70b9d3bf",
   "metadata": {},
   "source": [
    "\"\"\"\n",
    "scaler = MinMaxScaler()\n",
    "scaler.fit(x_train)\n",
    "x_train = scaler.transform(x_train)\n",
    "x_test = scaler.transform(x_test)\n",
    "\n",
    "class NaiveBayes:\n",
    "    def __init__(self):\n",
    "        self.nb_attack = MultinomialNB()\n",
    "        self.nb_category = MultinomialNB()\n",
    "        self.nb_subcategory = MultinomialNB()\n",
    "    \n",
    "    def fit(self,x_train,y_train):\n",
    "        self.nb_attack.fit(x_train,y_train['attack'])\n",
    "        \n",
    "        features_category = np.concatenate((x_train,np.array(y_train['attack']).reshape(-1,1)),axis=1)\n",
    "        self.nb_category.fit(features_category,y_train['category'])\n",
    "        \n",
    "        features_subcategory = np.concatenate((features_category,np.array(y_train['category']).reshape(-1,1)),axis=1)\n",
    "        self.nb_subcategory.fit(features_subcategory,y_train['subcategory'])\n",
    "        \n",
    "    def predict(self,x_test):\n",
    "        predict_attack = self.nb_attack.predict(x_test)\n",
    "        \n",
    "        test_category = np.concatenate((x_test,predict_attack.reshape(-1,1)),axis=1)\n",
    "        predict_category = self.nb_category.predict(test_category)\n",
    "\n",
    "        test_subcategory = np.concatenate((test_category,predict_category.reshape(-1,1)),axis=1)\n",
    "        predict_subcategory = self.nb_subcategory.predict(test_subcategory)\n",
    "\n",
    "        return pd.DataFrame({'attack':predict_attack,'category':predict_category,'subcategory':predict_subcategory})\n",
    "\n",
    "nb = NaiveBayes()\n",
    "nb.fit(x_train,y_train)\n",
    "\n",
    "predictions_nb = nb.predict(x_test)\n",
    "\n",
    "print(confusion_matrix(y_test['attack'],predictions_nb['attack']))\n",
    "print(classification_report(y_test['attack'],predictions_nb['attack']))\n",
    "\"\"\"\n",
    "NB = MultinomialNB()\n",
    "model_NaiveBayes = NB.fit(x_train, y_train)\n",
    "predict_category = model_NaiveBayes.predict(x_test)\n",
    "print(confusion_matrix(y_test,predict_category))"
   ]
  },
  {
   "cell_type": "markdown",
   "id": "4da6f878",
   "metadata": {},
   "source": [
    "import lime\n",
    "from lime import lime_tabular\n",
    "explainer = lime_tabular.LimeTabularExplainer(\n",
    "    training_data=np.array(x_train),\n",
    "    feature_names=all_features.columns,\n",
    "    #class_names = np.unique(target_features)\n",
    "    mode='classification'\n",
    ")\n",
    "\n",
    "exp = explainer.explain_instance(\n",
    "    data_row=x_test.iloc[2], \n",
    "    predict_fn=NB.predict_proba\n",
    ")\n",
    "\n",
    "exp.show_in_notebook(show_table=True)"
   ]
  },
  {
   "cell_type": "code",
   "execution_count": 3,
   "id": "243b6538",
   "metadata": {},
   "outputs": [
    {
     "name": "stdout",
     "output_type": "stream",
     "text": [
      "[08:31:00] WARNING: D:\\bld\\xgboost-split_1645118015404\\work\\src\\learner.cc:1115: Starting in XGBoost 1.3.0, the default evaluation metric used with the objective 'multi:softprob' was changed from 'merror' to 'mlogloss'. Explicitly set eval_metric if you'd like to restore the old behavior.\n",
      "                precision    recall  f1-score   support\n",
      "\n",
      "          DDoS       0.99      0.99      0.99    384878\n",
      "           DoS       0.99      0.99      0.99    330487\n",
      "        Normal       0.95      0.88      0.91        98\n",
      "Reconnaissance       0.99      0.96      0.97     18224\n",
      "         Theft       0.82      0.78      0.80        18\n",
      "\n",
      "      accuracy                           0.99    733705\n",
      "     macro avg       0.95      0.92      0.93    733705\n",
      "  weighted avg       0.99      0.99      0.99    733705\n",
      "\n",
      "5min 27s ± 0 ns per loop (mean ± std. dev. of 1 run, 1 loop each)\n"
     ]
    }
   ],
   "source": [
    "%%timeit -r 1 -n 1\n",
    "\n",
    "#lgbmc = lgbm.LGBMClassifier()\n",
    "#lgbmc.fit(x_train, y_train)\n",
    "#predict_attack = lgbmc.predict(x_test)\n",
    "\n",
    "xgbc = xgb.XGBClassifier()\n",
    "xgbc.fit(x_train,y_train)\n",
    "predict_attack = xgbc.predict(x_test)\n",
    "#features_category = np.concatenate((x_train,np.array(y_train['attack']).reshape(-1,1)),axis=1)\n",
    "#xgbc.fit(features_category,y_train['category'])\n",
    "\n",
    "\n",
    "#test_category = np.concatenate((x_test,predict_attack.reshape(-1,1)),axis=1)\n",
    "#predict_category = xgbc.predict(test_category)\n",
    "#print(\"XGBC: \",roc_auc_score(y_test, y_pred))\n",
    "print(classification_report(y_test,predict_attack))\n",
    "lexi = 432;"
   ]
  },
  {
   "cell_type": "code",
   "execution_count": 4,
   "id": "ab66c704",
   "metadata": {},
   "outputs": [],
   "source": [
    "# compute SHAP values\n",
    "#explainer = shap.TreeExplainer(xgbc)\n",
    "#shap_values = explainer.shap_values(x_test)"
   ]
  },
  {
   "cell_type": "code",
   "execution_count": 5,
   "id": "e8b67729",
   "metadata": {},
   "outputs": [],
   "source": [
    "#shap.summary_plot(shap_values, x_test.values, plot_type=\"bar\", class_names=np.unique(target_features) , feature_names = x_test.columns)"
   ]
  },
  {
   "cell_type": "markdown",
   "id": "d3de3284",
   "metadata": {},
   "source": [
    "shap.waterfall_plot(shap.Explanation(values=shap_values[0][lexi],base_values=explainer.expected_value[0], data=x_test.iloc[lexi], feature_names=x_test.columns))"
   ]
  },
  {
   "cell_type": "markdown",
   "id": "e0aaa084",
   "metadata": {},
   "source": [
    "np.unique(target_features)"
   ]
  },
  {
   "cell_type": "markdown",
   "id": "c256d37c",
   "metadata": {},
   "source": [
    "import lime\n",
    "from lime import lime_tabular\n",
    "explainer = lime_tabular.LimeTabularExplainer(\n",
    "    training_data=np.array(x_train),\n",
    "    feature_names=x_train.columns,\n",
    "    #class_names = np.unique(target_features)\n",
    "    mode='classification'\n",
    ")\n",
    "\n",
    "exp = explainer.explain_instance(\n",
    "    data_row=x_test.iloc[lexi], \n",
    "    predict_fn=xgbc.predict_proba\n",
    ")\n",
    "\n",
    "exp.show_in_notebook(show_table=True)"
   ]
  },
  {
   "cell_type": "markdown",
   "id": "19f27de7",
   "metadata": {
    "scrolled": true
   },
   "source": [
    "num_out = '1'\n",
    "index_pos = y_test.index(num_out)"
   ]
  },
  {
   "cell_type": "markdown",
   "id": "bdbc8748",
   "metadata": {},
   "source": [
    "np.unique(data[['flgs_number']])"
   ]
  },
  {
   "cell_type": "markdown",
   "id": "c2cf78dd",
   "metadata": {},
   "source": [
    "np.unique(data[['flgs']])"
   ]
  },
  {
   "cell_type": "markdown",
   "id": "04ec45e1",
   "metadata": {},
   "source": [
    "pr = data[['flgs_number','flgs']];\n",
    "#pr.index(6)"
   ]
  },
  {
   "cell_type": "markdown",
   "id": "3be22d11",
   "metadata": {},
   "source": [
    "pr.loc[pr['flgs_number'] == 1]"
   ]
  },
  {
   "cell_type": "code",
   "execution_count": null,
   "id": "736c883b",
   "metadata": {},
   "outputs": [],
   "source": []
  }
 ],
 "metadata": {
  "kernelspec": {
   "display_name": "Python 3 (ipykernel)",
   "language": "python",
   "name": "python3"
  },
  "language_info": {
   "codemirror_mode": {
    "name": "ipython",
    "version": 3
   },
   "file_extension": ".py",
   "mimetype": "text/x-python",
   "name": "python",
   "nbconvert_exporter": "python",
   "pygments_lexer": "ipython3",
   "version": "3.9.7"
  }
 },
 "nbformat": 4,
 "nbformat_minor": 5
}
