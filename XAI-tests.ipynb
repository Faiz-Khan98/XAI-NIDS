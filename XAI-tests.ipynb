{
 "cells": [
  {
   "cell_type": "code",
   "execution_count": 1,
   "id": "c88a40ee",
   "metadata": {},
   "outputs": [],
   "source": [
    "# -*- coding: utf-8 -*-\n",
    "\"\"\"\n",
    "Created on Tue Mar 22 09:09:54 2022\n",
    "\n",
    "@author: faiza\n",
    "\"\"\"\n",
    "\n",
    "import os\n",
    "import pandas as pd\n",
    "import numpy as np\n",
    "from sklearn.preprocessing import LabelEncoder, MinMaxScaler, OrdinalEncoder \n",
    "from sklearn.model_selection import train_test_split\n",
    "from sklearn.metrics import confusion_matrix, classification_report, auc, roc_auc_score\n",
    "from sklearn.metrics import accuracy_score\n",
    "import matplotlib.pyplot as plt\n",
    "import category_encoders as ce\n",
    "from imblearn.under_sampling import RandomUnderSampler\n",
    "from collections import Counter\n",
    "from sklearn.naive_bayes import GaussianNB, MultinomialNB\n",
    "from sklearn.linear_model import LogisticRegression\n",
    "from sklearn import svm\n",
    "import xgboost as xgb\n",
    "import lightgbm as lgbm\n",
    "import lime\n",
    "from lime import lime_tabular\n",
    "import shap\n",
    "from IPython.display import display\n",
    "from pdpbox import pdp, get_dataset, info_plots\n",
    "from sklearn.feature_selection import VarianceThreshold\n",
    "import warnings\n",
    "warnings.filterwarnings('ignore')"
   ]
  },
  {
   "cell_type": "markdown",
   "id": "3edb2ff8",
   "metadata": {},
   "source": [
    "\n",
    "master_df = pd.read_csv('Master_File.CSV')\n",
    "\n",
    "data = master_df\n",
    "data = data.dropna(axis=1)\n",
    "data.drop_duplicates(data.columns, keep='last')\n",
    "\n",
    "data = data.drop(['pkSeqID','seq','stime','ltime','saddr','daddr','flgs','proto','state'], axis =1)\n",
    "\n",
    "\n",
    "for index in range(len(data)):\n",
    "    if isinstance(data.at[index,\"sport\"], str):\n",
    "       data.at[index,\"sport\"] = -1\n",
    "\n",
    "for index in range(len(data)):\n",
    "    if isinstance(data.at[index,\"dport\"], str):\n",
    "       data.at[index,\"dport\"] = -1\n",
    "\n",
    "Theft_dataset = data[(data[\"category\"] == \"Theft\") | (data[\"category\"] == \"Normal\")]\n",
    "Theft_dataset = Theft_dataset.drop(['subcategory'],axis = 1)\n",
    "\n",
    "Data_Exfiltration_dataset = data[(data[\"subcategory\"] == \"Data_Exfiltration\") | (data[\"subcategory\"] == \"Normal\")]\n",
    "Data_Exfiltration_dataset = Data_Exfiltration_dataset.drop(['category'],axis = 1)\n",
    "\n",
    "Keylogging_dataset = data[(data[\"subcategory\"] == \"Keylogging\") | (data[\"subcategory\"] == \"Normal\")]\n",
    "Keylogging_dataset = Keylogging_dataset.drop(['category'],axis = 1)\n",
    "\n",
    "Theft_dataset.to_csv('Theft_File.CSV',index=False)\n",
    "\n",
    "Data_Exfiltration_dataset.to_csv('Data_Exfiltration_File.CSV',index=False)\n",
    "\n",
    "Keylogging_dataset.to_csv('Keylogging_File.CSV',index=False)\n",
    "\n"
   ]
  },
  {
   "cell_type": "code",
   "execution_count": 2,
   "id": "050b8056",
   "metadata": {},
   "outputs": [],
   "source": [
    "Theft_dataset = pd.read_csv('Theft_File.CSV')\n",
    "target_features = Theft_dataset['attack']\n",
    "#c_names = np.unique(Theft_dataset['category'])"
   ]
  },
  {
   "cell_type": "code",
   "execution_count": 3,
   "id": "fc1a3ebb",
   "metadata": {},
   "outputs": [],
   "source": [
    "#Normalize\n",
    "scaler = MinMaxScaler()\n",
    "Theft_dataset = Theft_dataset.drop(['attack','category'],axis=1)\n",
    "f_names=Theft_dataset.columns"
   ]
  },
  {
   "cell_type": "code",
   "execution_count": 4,
   "id": "d1fc0936",
   "metadata": {},
   "outputs": [
    {
     "name": "stdout",
     "output_type": "stream",
     "text": [
      "Counter({0: 477, 1: 79})\n",
      "Counter({0: 239, 1: 79})\n"
     ]
    }
   ],
   "source": [
    "#RUS\n",
    "print(Counter(target_features))\n",
    "undersample = RandomUnderSampler(sampling_strategy=0.33, random_state=2)\n",
    "x_over, y_over = undersample.fit_resample(Theft_dataset, target_features)\n",
    "print(Counter(y_over))\n",
    "Theft_dataset = x_over\n",
    "target_features = y_over"
   ]
  },
  {
   "cell_type": "code",
   "execution_count": 5,
   "id": "0eb28f54",
   "metadata": {},
   "outputs": [],
   "source": [
    "#scaler.fit(Theft_dataset)\n",
    "#Theft_dataset = scaler.transform(Theft_dataset)\n",
    "#feature_selector = VarianceThreshold()\n",
    "#VarianceFiltered_X = feature_selector.fit_transform(Theft_dataset)\n",
    "time_dataset = Theft_dataset[['TnP_PerProto','proto_number']]\n",
    "x_train, x_test, y_train, y_test = train_test_split(time_dataset,target_features,test_size=0.2, random_state=2)"
   ]
  },
  {
   "cell_type": "code",
   "execution_count": 6,
   "id": "702c46e3",
   "metadata": {},
   "outputs": [
    {
     "name": "stdout",
     "output_type": "stream",
     "text": [
      "[11:57:32] WARNING: D:\\bld\\xgboost-split_1645118015404\\work\\src\\learner.cc:1115: Starting in XGBoost 1.3.0, the default evaluation metric used with the objective 'binary:logistic' was changed from 'error' to 'logloss'. Explicitly set eval_metric if you'd like to restore the old behavior.\n",
      "              precision    recall  f1-score   support\n",
      "\n",
      "           0       0.98      1.00      0.99        55\n",
      "           1       1.00      0.89      0.94         9\n",
      "\n",
      "    accuracy                           0.98        64\n",
      "   macro avg       0.99      0.94      0.97        64\n",
      "weighted avg       0.98      0.98      0.98        64\n",
      "\n",
      "38 ms ± 0 ns per loop (mean ± std. dev. of 1 run, 1 loop each)\n"
     ]
    }
   ],
   "source": [
    "%%timeit -r 1 -n 1\n",
    "\n",
    "#NB\n",
    "#NB = GaussianNB()\n",
    "#model_NaiveBayes = NB.fit(x_train, y_train) \n",
    "#pred_nb = model_NaiveBayes.predict(x_test)\n",
    "#print(classification_report(y_test, pred_nb))\n",
    "#print(\"NB: \",roc_auc_score(y_test, pred_nb))\n",
    "\n",
    "#LR\n",
    "#LR = LogisticRegression()\n",
    "#LR.fit(x_train, y_train)\n",
    "#y_pred = LR.predict(x_test)\n",
    "#print(\"LR: \",roc_auc_score(y_test, y_pred))\n",
    "\n",
    "#LGBM\n",
    "#lgbmc = lgbm.LGBMClassifier()\n",
    "#lgbmc.fit(x_train, y_train)\n",
    "#y_pred = lgbmc.predict(x_test)\n",
    "#print(\"LGBM: \",roc_auc_score(y_test, y_pred))\n",
    "#print(classification_report(y_test,y_pred))\n",
    "\n",
    "#XGBC\n",
    "xgbc = xgb.XGBClassifier()\n",
    "xgbc.fit(x_train, y_train)\n",
    "y_pred = xgbc.predict(x_test)\n",
    "#print(\"XGBC: \",roc_auc_score(y_test, y_pred))\n",
    "print(classification_report(y_test,y_pred))\n",
    "\n",
    "#predictions = [round(value) for value in y_pred]\n",
    "#accuracy = accuracy_score(y_test, predictions)\n",
    "#print(\"Accuracy: %.2f%%\" % (accuracy * 100.0))"
   ]
  },
  {
   "cell_type": "code",
   "execution_count": 7,
   "id": "dd0c0092",
   "metadata": {},
   "outputs": [],
   "source": [
    "#data[\"subcategory\"].value_counts()\n",
    "\n",
    "# Local explanation index\n",
    "lexi = 3;\n",
    "# Features to focus\n",
    "ftf1 = 'TnP_PerProto'\n",
    "ftf2 = 'AR_P_Proto_P_Dport'"
   ]
  },
  {
   "cell_type": "markdown",
   "id": "7bdfa7a7",
   "metadata": {},
   "source": [
    "# LIME\n",
    "explainer = lime_tabular.LimeTabularExplainer(\n",
    "    training_data=np.array(x_train),\n",
    "    feature_names=f_names,\n",
    "    mode='classification'\n",
    ")\n",
    "\n",
    "exp = explainer.explain_instance(\n",
    "    data_row=x_test.iloc[lexi], \n",
    "    predict_fn=LR.predict_proba\n",
    ")\n",
    "\n",
    "exp.show_in_notebook(show_table=True)\n"
   ]
  },
  {
   "cell_type": "markdown",
   "id": "b4cf09d7",
   "metadata": {},
   "source": [
    "# SHAP\n",
    "shap_explainer = shap.TreeExplainer(lgbmc,x_test)\n",
    "shap_values = shap_explainer.shap_values(x_test)\n",
    "#shap_values = shap_explainer(x_test)\n",
    "shap.initjs()\n",
    "#shap.summary_plot(shap_values, x_test.values, plot_type=\"bar\", class_names= c_names, feature_names = x_test.columns)"
   ]
  },
  {
   "cell_type": "markdown",
   "id": "d7be944d",
   "metadata": {},
   "source": [
    "shap.summary_plot(shap_values, x_test.values, feature_names = x_test.columns , plot_type='violin')\n",
    "#shap.summary_plot(shap_values, plot_type='violin')"
   ]
  },
  {
   "cell_type": "markdown",
   "id": "9f1553d9",
   "metadata": {},
   "source": [
    "shap.force_plot(shap_explainer.expected_value, shap_values[lexi],features =x_test.iloc[lexi,:] ,feature_names =x_test.columns)"
   ]
  },
  {
   "cell_type": "markdown",
   "id": "db6f467c",
   "metadata": {},
   "source": [
    "#shap.plots.waterfall(shap_values[lexi])"
   ]
  },
  {
   "cell_type": "markdown",
   "id": "080472c5",
   "metadata": {},
   "source": [
    "shap.bar_plot(shap_values[lexi],features =x_test.iloc[lexi,:] ,feature_names =x_test.columns)"
   ]
  },
  {
   "cell_type": "markdown",
   "id": "ef411053",
   "metadata": {},
   "source": [
    "shap.dependence_plot(ftf1 , shap_values, x_test)"
   ]
  },
  {
   "cell_type": "markdown",
   "id": "08959d5f",
   "metadata": {},
   "source": [
    "pd.set_option(\"display.max_rows\", None, \"display.max_columns\", None)\n",
    "x_test"
   ]
  },
  {
   "cell_type": "markdown",
   "id": "c76d9975",
   "metadata": {},
   "source": [
    "y_test"
   ]
  },
  {
   "cell_type": "code",
   "execution_count": null,
   "id": "6f5af9c6",
   "metadata": {},
   "outputs": [],
   "source": []
  },
  {
   "cell_type": "code",
   "execution_count": null,
   "id": "9ab8cb95",
   "metadata": {},
   "outputs": [],
   "source": []
  }
 ],
 "metadata": {
  "celltoolbar": "Raw Cell Format",
  "kernelspec": {
   "display_name": "Python 3 (ipykernel)",
   "language": "python",
   "name": "python3"
  },
  "language_info": {
   "codemirror_mode": {
    "name": "ipython",
    "version": 3
   },
   "file_extension": ".py",
   "mimetype": "text/x-python",
   "name": "python",
   "nbconvert_exporter": "python",
   "pygments_lexer": "ipython3",
   "version": "3.9.7"
  }
 },
 "nbformat": 4,
 "nbformat_minor": 5
}
